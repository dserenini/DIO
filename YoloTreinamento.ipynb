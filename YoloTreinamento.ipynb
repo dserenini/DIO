{
  "nbformat": 4,
  "nbformat_minor": 0,
  "metadata": {
    "colab": {
      "provenance": [],
      "gpuType": "T4"
    },
    "kernelspec": {
      "name": "python3",
      "display_name": "Python 3"
    },
    "language_info": {
      "name": "python"
    },
    "accelerator": "GPU"
  },
  "cells": [
    {
      "cell_type": "markdown",
      "source": [
        "# Ultralytics Installation"
      ],
      "metadata": {
        "id": "BjH_8JwI5GzT"
      }
    },
    {
      "cell_type": "code",
      "execution_count": null,
      "metadata": {
        "id": "0LUidn3v0M3B"
      },
      "outputs": [],
      "source": [
        "!pip install ultralytics"
      ]
    },
    {
      "cell_type": "markdown",
      "source": [
        "Model Loading"
      ],
      "metadata": {
        "id": "zO5YBhlF5MgL"
      }
    },
    {
      "cell_type": "code",
      "source": [
        "from ultralytics import YOLO\n",
        "\n",
        "model = YOLO('yolov8n.pt')"
      ],
      "metadata": {
        "id": "mlkIvZn_0Q_d"
      },
      "execution_count": null,
      "outputs": []
    },
    {
      "cell_type": "markdown",
      "source": [
        "### Examples of Detections pre-trained"
      ],
      "metadata": {
        "id": "Jbdp_xMz5Osj"
      }
    },
    {
      "cell_type": "code",
      "source": [
        "result_bus = model('https://ultralytics.com/images/bus.jpg')\n",
        "result_dog = model('/content/yolo.jpg')"
      ],
      "metadata": {
        "id": "ln8s7ojF0tL2"
      },
      "execution_count": null,
      "outputs": []
    },
    {
      "cell_type": "code",
      "source": [
        "for result in result_bus:\n",
        "    boxes = result.boxes\n",
        "    result.save(filename='result_bus.jpg')"
      ],
      "metadata": {
        "id": "2gJhrD6c08is"
      },
      "execution_count": null,
      "outputs": []
    },
    {
      "cell_type": "code",
      "source": [
        "for result in result_dog:\n",
        "    boxes = result.boxes\n",
        "    result.save(filename='result_dog.jpg')"
      ],
      "metadata": {
        "id": "0QDJ6pvy2WoF"
      },
      "execution_count": null,
      "outputs": []
    },
    {
      "cell_type": "code",
      "source": [
        "import matplotlib.pyplot as plt\n",
        "import matplotlib.image as mpimg\n",
        "\n",
        "img_bus = '/content/bus.jpg'\n",
        "img_bus_dt = '/content/result_bus.jpg'\n",
        "\n",
        "image_bus = mpimg.imread(img_bus)\n",
        "image_bus_dt = mpimg.imread(img_bus_dt)\n",
        "plt.imshow(image_bus)\n",
        "plt.axis('off')\n",
        "plt.show()\n",
        "plt.imshow(image_bus_dt)\n",
        "plt.axis('off')\n",
        "\n",
        "plt.show()"
      ],
      "metadata": {
        "id": "yhpThBU21LU8"
      },
      "execution_count": null,
      "outputs": []
    },
    {
      "cell_type": "code",
      "source": [
        "import matplotlib.pyplot as plt\n",
        "import matplotlib.image as mpimg\n",
        "\n",
        "img_dog = '/content/yolo.jpg'\n",
        "img_dog_dt = '/content/result_dog.jpg'\n",
        "\n",
        "image_dog = mpimg.imread(img_dog)\n",
        "image_dog_dt = mpimg.imread(img_dog_dt)\n",
        "plt.imshow(image_dog)\n",
        "plt.axis('off')\n",
        "plt.show()\n",
        "plt.imshow(image_dog_dt)\n",
        "plt.axis('off')\n",
        "\n",
        "plt.show()"
      ],
      "metadata": {
        "id": "hwrZFMTC1z5l"
      },
      "execution_count": null,
      "outputs": []
    },
    {
      "cell_type": "markdown",
      "source": [
        "# Custom Dataset"
      ],
      "metadata": {
        "id": "b1mkHpP55adL"
      }
    },
    {
      "cell_type": "markdown",
      "source": [
        "## Coleta e catalogação das imagens dos objetos para treinamento"
      ],
      "metadata": {
        "id": "5fQLUpKM5mMD"
      }
    },
    {
      "cell_type": "markdown",
      "source": [
        "### Etapa 1 - Clonando o repositório"
      ],
      "metadata": {
        "id": "OAmbqXvM5rID"
      }
    },
    {
      "cell_type": "code",
      "source": [
        "!git clone https://github.com/EscVM/OIDv4_ToolKit.git"
      ],
      "metadata": {
        "id": "8ukWuoCv5Zdb"
      },
      "execution_count": null,
      "outputs": []
    },
    {
      "cell_type": "markdown",
      "source": [
        "### Etapa 2 - Acessando o diretório da Ferramenta"
      ],
      "metadata": {
        "id": "ZOuJw0Rx6Adq"
      }
    },
    {
      "cell_type": "code",
      "source": [
        "ls"
      ],
      "metadata": {
        "id": "Dg8FQ3FE52vj"
      },
      "execution_count": null,
      "outputs": []
    },
    {
      "cell_type": "code",
      "source": [
        "cd OIDv4_ToolKit/"
      ],
      "metadata": {
        "id": "5OBODHQP6Fcq"
      },
      "execution_count": null,
      "outputs": []
    },
    {
      "cell_type": "code",
      "source": [
        "ls"
      ],
      "metadata": {
        "id": "ENnvgLZm6IUK"
      },
      "execution_count": null,
      "outputs": []
    },
    {
      "cell_type": "code",
      "source": [],
      "metadata": {
        "id": "Zzr2m0tT6JvA"
      },
      "execution_count": null,
      "outputs": []
    },
    {
      "cell_type": "markdown",
      "source": [
        "### Etapa 3 - Instalando o Requirements"
      ],
      "metadata": {
        "id": "UZfClOHN6Npb"
      }
    },
    {
      "cell_type": "code",
      "source": [
        "!pip3 install -r requirements.txt"
      ],
      "metadata": {
        "collapsed": true,
        "id": "Zz8jCKhq6SeT"
      },
      "execution_count": null,
      "outputs": []
    },
    {
      "cell_type": "markdown",
      "source": [
        "### Etapa 4 - Fazendo o download das imagens"
      ],
      "metadata": {
        "id": "jZlHtLjj6fyL"
      }
    },
    {
      "cell_type": "markdown",
      "source": [
        "#### Imagens de Treinamento"
      ],
      "metadata": {
        "id": "Rcrl_iEH6mXK"
      }
    },
    {
      "cell_type": "code",
      "source": [
        "!python main.py downloader --classes Bird Butterfly Flower --type_csv train --limit 500 --multiclasses 1"
      ],
      "metadata": {
        "id": "3ngIQuPr6W1S"
      },
      "execution_count": null,
      "outputs": []
    },
    {
      "cell_type": "markdown",
      "source": [
        "#### Imagens de Teste"
      ],
      "metadata": {
        "id": "3bEcRJONFMtP"
      }
    },
    {
      "cell_type": "code",
      "source": [
        "!python main.py downloader --classes Bird Butterfly Flower --type_csv test --limit 100 --multiclasses 1"
      ],
      "metadata": {
        "id": "GK8nIK527CWC"
      },
      "execution_count": null,
      "outputs": []
    },
    {
      "cell_type": "markdown",
      "source": [
        "### Etapa 5 - Convertendo os arquivos de anotação"
      ],
      "metadata": {
        "id": "qlEB9X39FE3P"
      }
    },
    {
      "cell_type": "markdown",
      "source": [
        "#### 1 Colocar as classes no arquivo classes.txt"
      ],
      "metadata": {
        "id": "UbqBlnflFdF_"
      }
    },
    {
      "cell_type": "code",
      "source": [
        "!cat classes.txt"
      ],
      "metadata": {
        "id": "vP9LBxLSFIrW"
      },
      "execution_count": null,
      "outputs": []
    },
    {
      "cell_type": "code",
      "source": [
        "!echo -e 'Bird\\nButterfly\\nFlower' > classes.txt"
      ],
      "metadata": {
        "id": "tBuQu4mSFQen"
      },
      "execution_count": null,
      "outputs": []
    },
    {
      "cell_type": "markdown",
      "source": [
        "#### 2 Clonando o Repositório da Ferramenta"
      ],
      "metadata": {
        "id": "YFMHDKcaFmTn"
      }
    },
    {
      "cell_type": "code",
      "source": [
        "!git clone -n https://github.com/Hemilibeatriz/TreinamentoCustomizadoYOLO.git"
      ],
      "metadata": {
        "id": "vK0kxBBbFaQm"
      },
      "execution_count": null,
      "outputs": []
    },
    {
      "cell_type": "code",
      "source": [
        "cd TreinamentoCustomizadoYolo/"
      ],
      "metadata": {
        "id": "V86UtzbOFqF3"
      },
      "execution_count": null,
      "outputs": []
    },
    {
      "cell_type": "code",
      "source": [
        "ls"
      ],
      "metadata": {
        "id": "KeftgYWcGPTu"
      },
      "execution_count": null,
      "outputs": []
    },
    {
      "cell_type": "code",
      "source": [
        "!git checkout HEAD converter_anotacoes.py"
      ],
      "metadata": {
        "id": "AA7z5Bx2F3sO"
      },
      "execution_count": null,
      "outputs": []
    },
    {
      "cell_type": "code",
      "source": [
        "!mv converter_anotacoes.py /content/OIDv4_Toolkit/"
      ],
      "metadata": {
        "id": "jlFZgT7kGEV2"
      },
      "execution_count": null,
      "outputs": []
    },
    {
      "cell_type": "code",
      "source": [
        "ls"
      ],
      "metadata": {
        "id": "okcM-J3oGsHN"
      },
      "execution_count": null,
      "outputs": []
    },
    {
      "cell_type": "markdown",
      "source": [
        "#### 3 Executar o Arquivo de Conversão"
      ],
      "metadata": {
        "id": "nCLqMezjHA7u"
      }
    },
    {
      "cell_type": "code",
      "source": [
        "!python converter_anotacoes.py"
      ],
      "metadata": {
        "id": "v1NuxHYDG2R9"
      },
      "execution_count": null,
      "outputs": []
    },
    {
      "cell_type": "markdown",
      "source": [
        "### Etapa 6 - Compactar o Dataset"
      ],
      "metadata": {
        "id": "9S2NZhmGID8u"
      }
    },
    {
      "cell_type": "code",
      "source": [
        "cd OID/Dataset/train/"
      ],
      "metadata": {
        "id": "fdiG48AYIHrm"
      },
      "execution_count": null,
      "outputs": []
    },
    {
      "cell_type": "code",
      "source": [
        "!zip -r ../../../obj.zip obj -x obj/Label/*"
      ],
      "metadata": {
        "collapsed": true,
        "id": "xmZdsglWIPh1"
      },
      "execution_count": null,
      "outputs": []
    },
    {
      "cell_type": "code",
      "source": [
        "cd .."
      ],
      "metadata": {
        "id": "RLLzDqBiItAG"
      },
      "execution_count": null,
      "outputs": []
    },
    {
      "cell_type": "code",
      "source": [
        "cd test/"
      ],
      "metadata": {
        "id": "RIqP6KbHIWUN"
      },
      "execution_count": null,
      "outputs": []
    },
    {
      "cell_type": "code",
      "source": [
        "!zip -r ../../../valid.zip valid -x valid/Label/*"
      ],
      "metadata": {
        "collapsed": true,
        "id": "HPNuohQbIfLF"
      },
      "execution_count": null,
      "outputs": []
    },
    {
      "cell_type": "code",
      "source": [
        "from google.colab import drive\n",
        "drive.mount('/content/gdrive')"
      ],
      "metadata": {
        "id": "7GoDO5QwI2T9"
      },
      "execution_count": null,
      "outputs": []
    },
    {
      "cell_type": "code",
      "source": [
        "cd ../../../"
      ],
      "metadata": {
        "id": "IVSzTXpfJBA8"
      },
      "execution_count": null,
      "outputs": []
    },
    {
      "cell_type": "code",
      "source": [
        "ls"
      ],
      "metadata": {
        "id": "l3OP1cuyJJld"
      },
      "execution_count": null,
      "outputs": []
    },
    {
      "cell_type": "code",
      "source": [
        "!cp ./obj.zip /content/gdrive/My\\ Drive/DIO/Transfer_Learning"
      ],
      "metadata": {
        "id": "uL_lO4JNJQs0"
      },
      "execution_count": null,
      "outputs": []
    },
    {
      "cell_type": "code",
      "source": [
        "!cp ./valid.zip /content/gdrive/My\\ Drive/DIO/Transfer_Learning"
      ],
      "metadata": {
        "id": "Q7NUnlDfJ39M"
      },
      "execution_count": null,
      "outputs": []
    },
    {
      "cell_type": "code",
      "source": [],
      "metadata": {
        "id": "Hn1ZvRneJ7ys"
      },
      "execution_count": null,
      "outputs": []
    },
    {
      "cell_type": "markdown",
      "source": [],
      "metadata": {
        "id": "5OkzpzjJKDlF"
      }
    },
    {
      "cell_type": "markdown",
      "source": [
        "## Edição dos arquivos de Configuração"
      ],
      "metadata": {
        "id": "tu8P_s-UKE99"
      }
    },
    {
      "cell_type": "code",
      "source": [
        "cd .."
      ],
      "metadata": {
        "id": "0UTvrlmXKTHd"
      },
      "execution_count": null,
      "outputs": []
    },
    {
      "cell_type": "code",
      "source": [
        "!git clone https://github.com/AlexeyAB/darknet"
      ],
      "metadata": {
        "id": "gdS5SZ4pKMwd"
      },
      "execution_count": null,
      "outputs": []
    },
    {
      "cell_type": "code",
      "source": [
        "cd darknet"
      ],
      "metadata": {
        "id": "rOLJcOPdKWLM"
      },
      "execution_count": null,
      "outputs": []
    },
    {
      "cell_type": "code",
      "source": [
        "!make"
      ],
      "metadata": {
        "collapsed": true,
        "id": "GRRkM6ZnKYR8"
      },
      "execution_count": null,
      "outputs": []
    },
    {
      "cell_type": "markdown",
      "source": [
        "### 1 Editando Arquivos"
      ],
      "metadata": {
        "id": "8N7w1Z_tKffE"
      }
    },
    {
      "cell_type": "markdown",
      "source": [
        "#### Modificações no .cfg"
      ],
      "metadata": {
        "id": "xo7-3TC9KkVl"
      }
    },
    {
      "cell_type": "code",
      "source": [
        "ls"
      ],
      "metadata": {
        "id": "cIVrLnIILJiF"
      },
      "execution_count": null,
      "outputs": []
    },
    {
      "cell_type": "code",
      "source": [
        "!cp yolov4.cfg /content/gdrive/My\\ Drive/Dio/Transfer_Learning/yolov4_custom.cfg"
      ],
      "metadata": {
        "id": "tdf2GQZ3Ki4l"
      },
      "execution_count": null,
      "outputs": []
    },
    {
      "cell_type": "markdown",
      "source": [
        "#### Modificações no obj.names e obj.data"
      ],
      "metadata": {
        "id": "LgVAvAUUKnPc"
      }
    },
    {
      "cell_type": "code",
      "source": [
        "!touch obj.names\n",
        "!touch obj.data"
      ],
      "metadata": {
        "id": "B2-e8ja-KqIt"
      },
      "execution_count": null,
      "outputs": []
    },
    {
      "cell_type": "code",
      "source": [
        "pwd"
      ],
      "metadata": {
        "id": "WPW6mu3OzVU_"
      },
      "execution_count": null,
      "outputs": []
    },
    {
      "cell_type": "code",
      "source": [
        "!cp obj.names contentgdriveMy\\ Drive/DIO/Transfer_Learning/obj.names"
      ],
      "metadata": {
        "id": "aVQJxVz1Kqjs"
      },
      "execution_count": null,
      "outputs": []
    },
    {
      "cell_type": "markdown",
      "source": [
        "### 2 Gerando o arquivo train.txt e test.txt"
      ],
      "metadata": {
        "id": "AcGehSwgKrBl"
      }
    },
    {
      "cell_type": "code",
      "source": [
        "cd .."
      ],
      "metadata": {
        "id": "aOQkG3B63YFF"
      },
      "execution_count": null,
      "outputs": []
    },
    {
      "cell_type": "code",
      "source": [
        "cd OIDv4_ToolKit/"
      ],
      "metadata": {
        "id": "fJgXIGRYKu31"
      },
      "execution_count": null,
      "outputs": []
    },
    {
      "cell_type": "code",
      "source": [
        "!unzip obj.zip -d ./data"
      ],
      "metadata": {
        "collapsed": true,
        "id": "ljazftyaOPsK"
      },
      "execution_count": null,
      "outputs": []
    },
    {
      "cell_type": "code",
      "source": [
        "!unzip valid.zip -d ./data"
      ],
      "metadata": {
        "collapsed": true,
        "id": "Ozx4N2F-Odaa"
      },
      "execution_count": null,
      "outputs": []
    },
    {
      "cell_type": "code",
      "source": [
        "cd TreinamentoCustomizadoYOLO/"
      ],
      "metadata": {
        "id": "goG8BnJCOl1y"
      },
      "execution_count": null,
      "outputs": []
    },
    {
      "cell_type": "code",
      "source": [
        "!git checkout HEAD gera_train.py"
      ],
      "metadata": {
        "id": "-JupcFIcOqnq"
      },
      "execution_count": null,
      "outputs": []
    },
    {
      "cell_type": "code",
      "source": [
        "!git checkout HEAD gera_test.py"
      ],
      "metadata": {
        "id": "t3UyALNEO1-S"
      },
      "execution_count": null,
      "outputs": []
    },
    {
      "cell_type": "code",
      "source": [
        "cd .."
      ],
      "metadata": {
        "id": "17r8tlJ4PKG7"
      },
      "execution_count": null,
      "outputs": []
    },
    {
      "cell_type": "code",
      "source": [
        "!python /content/OIDv4_ToolKit/gera_train.py"
      ],
      "metadata": {
        "id": "H4t6Uq5UO5Ai"
      },
      "execution_count": null,
      "outputs": []
    },
    {
      "cell_type": "code",
      "source": [
        "!python /content/OIDv4_ToolKit/gera_test.py"
      ],
      "metadata": {
        "id": "3T0DUY7mPGPV"
      },
      "execution_count": null,
      "outputs": []
    },
    {
      "cell_type": "code",
      "source": [
        "cd data"
      ],
      "metadata": {
        "id": "gY0GvOLFPP3i"
      },
      "execution_count": null,
      "outputs": []
    },
    {
      "cell_type": "code",
      "source": [
        "!cp train.txt /content/gdrive/My\\ Drive/DIO/Transfer_Learning/train.txt"
      ],
      "metadata": {
        "id": "fsSgoDFGPZFS"
      },
      "execution_count": null,
      "outputs": []
    },
    {
      "cell_type": "code",
      "source": [
        "!cp train.txt /content/gdrive/My\\ Drive/DIO/Transfer_Learning/test.txt"
      ],
      "metadata": {
        "id": "y-k3jZyDPhF7"
      },
      "execution_count": null,
      "outputs": []
    },
    {
      "cell_type": "code",
      "source": [],
      "metadata": {
        "id": "rR4RWtrhPjky"
      },
      "execution_count": null,
      "outputs": []
    },
    {
      "cell_type": "markdown",
      "source": [
        "# YOLO - Treinamento"
      ],
      "metadata": {
        "id": "PlqdCL3O7Pvs"
      }
    },
    {
      "cell_type": "code",
      "source": [
        "#Teste de GPU\n",
        "import tensorflow as tf\n",
        "device_name = tf.test.gpu_device_name()\n",
        "print(device_name)"
      ],
      "metadata": {
        "id": "Bb0USump7aBV"
      },
      "execution_count": null,
      "outputs": []
    },
    {
      "cell_type": "code",
      "source": [
        "#Conectar no Drive\n",
        "from google.colab import drive\n",
        "drive.mount('/content/gdrive')"
      ],
      "metadata": {
        "id": "OwygLH2E7ixq"
      },
      "execution_count": null,
      "outputs": []
    },
    {
      "cell_type": "code",
      "source": [
        "#Abreviando o caminho pro Google Drive\n",
        "\n",
        "!ln -s /content/gdrive/My\\ Drive/DIO/Transfer_Learning/ /Transfer_Learning"
      ],
      "metadata": {
        "id": "GpUFqLlx7yHh"
      },
      "execution_count": null,
      "outputs": []
    },
    {
      "cell_type": "code",
      "source": [
        "ls /Transfer_Learning/"
      ],
      "metadata": {
        "id": "KezYI5x78goK"
      },
      "execution_count": null,
      "outputs": []
    },
    {
      "cell_type": "code",
      "source": [
        "#Clone do Darknet\n",
        "!git clone https://github.com/AlexeyAB/darknet"
      ],
      "metadata": {
        "collapsed": true,
        "id": "NOcQlYlP8j1a"
      },
      "execution_count": null,
      "outputs": []
    },
    {
      "cell_type": "code",
      "source": [
        "cd darknet"
      ],
      "metadata": {
        "id": "O1zsQC0L8xJJ"
      },
      "execution_count": null,
      "outputs": []
    },
    {
      "cell_type": "code",
      "source": [
        "ls\n"
      ],
      "metadata": {
        "id": "QGXS_X5B83vZ"
      },
      "execution_count": null,
      "outputs": []
    },
    {
      "cell_type": "code",
      "source": [
        "#Compilando a Biblioteca\n",
        "!sed -i 's/OPENCV=0/OPENCV=1/' Makefile\n",
        "!sed -i 's/GPU=0/CUDNN=1/' Makefile\n",
        "!sed -i 's/CUDNN=0/CUDNN=1/' Makefile"
      ],
      "metadata": {
        "id": "mWz5muEN86bx"
      },
      "execution_count": null,
      "outputs": []
    },
    {
      "cell_type": "code",
      "source": [
        "!make"
      ],
      "metadata": {
        "collapsed": true,
        "id": "qAH4fjrI8-E5"
      },
      "execution_count": null,
      "outputs": []
    },
    {
      "cell_type": "code",
      "source": [
        "ls /Transfer_Learning/"
      ],
      "metadata": {
        "id": "TcccKurX9QS5"
      },
      "execution_count": null,
      "outputs": []
    },
    {
      "cell_type": "code",
      "source": [
        "!unzip /Transfer_Learning/obj.zip -d ./data/"
      ],
      "metadata": {
        "collapsed": true,
        "id": "iCgo9mf49Vn5"
      },
      "execution_count": null,
      "outputs": []
    },
    {
      "cell_type": "code",
      "source": [
        "!unzip /Transfer_Learning/valid.zip -d ./data/"
      ],
      "metadata": {
        "collapsed": true,
        "id": "hp5gjThk9cfZ"
      },
      "execution_count": null,
      "outputs": []
    },
    {
      "cell_type": "code",
      "source": [
        "#Copiando os arquivos de configuração\n",
        "\n",
        "!cp /Transfer_Learning/obj.names ./data\n",
        "!cp /Transfer_Learning/obj.data ./data\n",
        "!cp /Transfer_Learning/train.txt ./data\n",
        "!cp /Transfer_Learning/test.txt ./data"
      ],
      "metadata": {
        "id": "6gJ6J5d69h5B"
      },
      "execution_count": null,
      "outputs": []
    },
    {
      "cell_type": "code",
      "source": [
        "#Baixando os presos pré treinados das camadas\n",
        "!wget https://github.com/AlexeyAB/darknet/releases/download/darknet_yolo_v3_optimal/yolov4.conv.137"
      ],
      "metadata": {
        "id": "iAXWg4qY9wGA"
      },
      "execution_count": null,
      "outputs": []
    },
    {
      "cell_type": "code",
      "source": [
        "ls"
      ],
      "metadata": {
        "id": "2A7_NTsNBxQ7"
      },
      "execution_count": null,
      "outputs": []
    },
    {
      "cell_type": "code",
      "source": [
        "cd darknet"
      ],
      "metadata": {
        "id": "-tCD-J_5_cdq"
      },
      "execution_count": null,
      "outputs": []
    },
    {
      "cell_type": "code",
      "source": [
        "cd .."
      ],
      "metadata": {
        "id": "S0neR9AXCPlT"
      },
      "execution_count": null,
      "outputs": []
    },
    {
      "cell_type": "code",
      "source": [
        "!make"
      ],
      "metadata": {
        "id": "RS4IlFhyAh-L"
      },
      "execution_count": null,
      "outputs": []
    },
    {
      "cell_type": "code",
      "source": [
        "#Rodar a rede com o Transfer Learning\n",
        "!./darknet detector train data/obj.data cfg/yolov4_custom.cfg yolov4.conv.137 -dont_shop -map"
      ],
      "metadata": {
        "id": "nGQmwZsU_C2A"
      },
      "execution_count": 54,
      "outputs": []
    },
    {
      "cell_type": "code",
      "source": [],
      "metadata": {
        "id": "fRDC8L6G_ZjT"
      },
      "execution_count": null,
      "outputs": []
    }
  ]
}